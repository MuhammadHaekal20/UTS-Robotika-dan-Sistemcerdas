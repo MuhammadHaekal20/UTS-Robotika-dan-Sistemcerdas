{
  "nbformat": 4,
  "nbformat_minor": 0,
  "metadata": {
    "colab": {
      "provenance": [],
      "authorship_tag": "ABX9TyN1djmirQ6O7EdHpWJhBRpt",
      "include_colab_link": true
    },
    "kernelspec": {
      "name": "python3",
      "display_name": "Python 3"
    },
    "language_info": {
      "name": "python"
    }
  },
  "cells": [
    {
      "cell_type": "markdown",
      "metadata": {
        "id": "view-in-github",
        "colab_type": "text"
      },
      "source": [
        "<a href=\"https://colab.research.google.com/github/MuhammadHaekal20/UTS-Robotika-dan-Sistemcerdas/blob/main/controller.ipynb\" target=\"_parent\"><img src=\"https://colab.research.google.com/assets/colab-badge.svg\" alt=\"Open In Colab\"/></a>"
      ]
    },
    {
      "cell_type": "code",
      "execution_count": null,
      "metadata": {
        "id": "9wVUCqkrxANP"
      },
      "outputs": [],
      "source": [
        "import rclpy\n",
        "from rclpy.node import Node\n",
        "from geometry_msgs.msg import Twist\n",
        "from sensor_msgs.msg import JointState\n",
        "from std_srvs.srv import Empty\n",
        "from controller_manager_msgs.srv import ListControllers\n",
        "from controller_manager_msgs.srv import SwitchController\n",
        "\n",
        "\n",
        "class MyRobotController(Node):\n",
        "    def __init__(self):\n",
        "        super().__init__('my_robot_controller')\n",
        "\n",
        "        # Subscribe to joint states\n",
        "        self.subscription = self.create_subscription(\n",
        "            JointState,\n",
        "            'joint_states',\n",
        "            self.joint_states_callback,\n",
        "            10)\n",
        "        self.subscription  # prevent unused variable warning\n",
        "\n",
        "        # Publish velocity commands\n",
        "        self.publisher = self.create_publisher(Twist, 'cmd_vel', 10)\n",
        "\n",
        "        # Wait for controller_manager services to be available\n",
        "        self.get_logger().info('Waiting for controller_manager services...')\n",
        "        self.list_controllers_client = self.create_client(ListControllers, '/controller_manager/list_controllers')\n",
        "        while not self.list_controllers_client.wait_for_service(timeout_sec=1.0):\n",
        "            self.get_logger().info('controller_manager services not available, waiting again...')\n",
        "        self.switch_controller_client = self.create_client(SwitchController, '/controller_manager/switch_controller')\n",
        "        while not self.switch_controller_client.wait_for_service(timeout_sec=1.0):\n",
        "            self.get_logger().info('controller_manager services not available, waiting again...')\n",
        "        self.get_logger().info('controller_manager services are now available.')\n",
        "\n",
        "        # Switch to joint velocity controllers\n",
        "        self.get_logger().info('Switching to joint velocity controllers...')\n",
        "        self.switch_controllers(['joint1_velocity_controller', 'joint2_velocity_controller'], [], True)\n",
        "\n",
        "    def joint_states_callback(self, msg):\n",
        "        # Process joint states\n",
        "        pass\n",
        "\n",
        "    def switch_controllers(self, start_controllers, stop_controllers, strictness):\n",
        "        # Switch controllers using controller_manager services\n",
        "        request = SwitchController.Request()\n",
        "        request.start_controllers = start_controllers\n",
        "        request.stop_controllers = stop_controllers\n",
        "        request.strictness = strictness\n",
        "        future = self.switch_controller_client.call_async(request)\n",
        "        rclpy.spin_until_future_complete(self, future)\n",
        "\n",
        "        if future.result() is not None:\n",
        "            response = future.result()\n",
        "            self.get_logger().info('Switched controllers: %s', response.ok)\n",
        "        else:\n",
        "            self.get_logger().error('Failed to switch controllers')\n",
        "\n",
        "    def send_command(self, linear, angular):\n",
        "        # Send velocity command\n",
        "        msg = Twist()\n",
        "        msg.linear.x = linear\n",
        "        msg.angular.z = angular\n",
        "        self.publisher.publish(msg)\n",
        "\n",
        "\n",
        "def main(args=None):\n",
        "    rclpy.init(args=args)\n",
        "\n",
        "    node = MyRobotController()\n",
        "\n",
        "    # Send velocity commands\n",
        "    node.send_command(0.1, 0.0)\n",
        "    rclpy.spin(node)\n",
        "\n",
        "    # Stop controllers\n",
        "    node.switch_controllers([], ['joint1_velocity_controller', 'joint2_velocity_controller'], True)\n",
        "\n",
        "    # Cleanup\n",
        "    node.destroy_node()\n",
        "    rclpy.shutdown()\n",
        "\n",
        "\n",
        "if __name__ == '__main__':\n",
        "    main()\n"
      ]
    }
  ]
}