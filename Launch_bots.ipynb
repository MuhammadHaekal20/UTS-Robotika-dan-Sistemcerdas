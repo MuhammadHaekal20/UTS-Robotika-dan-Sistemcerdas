{
  "nbformat": 4,
  "nbformat_minor": 0,
  "metadata": {
    "colab": {
      "provenance": [],
      "authorship_tag": "ABX9TyOBTKkUweRkW354A5cDM6PG",
      "include_colab_link": true
    },
    "kernelspec": {
      "name": "python3",
      "display_name": "Python 3"
    },
    "language_info": {
      "name": "python"
    }
  },
  "cells": [
    {
      "cell_type": "markdown",
      "metadata": {
        "id": "view-in-github",
        "colab_type": "text"
      },
      "source": [
        "<a href=\"https://colab.research.google.com/github/MuhammadHaekal20/UTS-Robotika-dan-Sistemcerdas/blob/main/Launch_bots.ipynb\" target=\"_parent\"><img src=\"https://colab.research.google.com/assets/colab-badge.svg\" alt=\"Open In Colab\"/></a>"
      ]
    },
    {
      "cell_type": "code",
      "source": [
        "from launch import LaunchDescription\n",
        "from launch_ros.actions import Node\n",
        "\n",
        "def generate_launch_description():\n",
        "    return LaunchDescription([\n",
        "        Node(\n",
        "            package='gazebo_ros',\n",
        "            node_executable='gazebo',\n",
        "            arguments=['-s', 'libgazebo_ros_init.so', 'worlds/my_world.world'],\n",
        "            output='screen'),\n",
        "        Node(\n",
        "            package='my_robot_sim',\n",
        "            node_executable='my_robot_controller',\n",
        "            output='screen'),\n",
        "    ])\n"
      ],
      "metadata": {
        "id": "io8eaJtFwS-v"
      },
      "execution_count": null,
      "outputs": []
    }
  ]
}