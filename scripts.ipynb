{
  "nbformat": 4,
  "nbformat_minor": 0,
  "metadata": {
    "colab": {
      "provenance": [],
      "authorship_tag": "ABX9TyPWoRPu79zBJwmcSvXP7d4Y",
      "include_colab_link": true
    },
    "kernelspec": {
      "name": "python3",
      "display_name": "Python 3"
    },
    "language_info": {
      "name": "python"
    }
  },
  "cells": [
    {
      "cell_type": "markdown",
      "metadata": {
        "id": "view-in-github",
        "colab_type": "text"
      },
      "source": [
        "<a href=\"https://colab.research.google.com/github/MuhammadHaekal20/UTS-Robotika-dan-Sistemcerdas/blob/main/scripts.ipynb\" target=\"_parent\"><img src=\"https://colab.research.google.com/assets/colab-badge.svg\" alt=\"Open In Colab\"/></a>"
      ]
    },
    {
      "cell_type": "code",
      "source": [
        "import rclpy\n",
        "from rclpy.node import Node\n",
        "\n",
        "class MyRobotController(Node):\n",
        "    def __init__(self):\n",
        "        super().__init__('my_robot_controller')\n",
        "\n",
        "def main(args=None):\n",
        "    rclpy.init(args=args)\n",
        "    node = MyRobotController()\n",
        "    rclpy.spin(node)\n",
        "    rclpy.shutdown()\n",
        "\n",
        "if __name__ == '__main__':\n",
        "    main()\n"
      ],
      "metadata": {
        "id": "w1PjVDxJwQ9p"
      },
      "execution_count": null,
      "outputs": []
    }
  ]
}